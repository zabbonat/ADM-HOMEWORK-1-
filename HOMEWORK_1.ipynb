{
 "cells": [
  {
   "cell_type": "markdown",
   "metadata": {},
   "source": [
    "PROBLEM 1\n"
   ]
  },
  {
   "cell_type": "markdown",
   "metadata": {},
   "source": [
    "INTRODUCTION\n",
    "\n",
    "\n",
    "Say \"Hello, World!\" With Python"
   ]
  },
  {
   "cell_type": "code",
   "execution_count": 2,
   "metadata": {},
   "outputs": [
    {
     "name": "stdout",
     "output_type": "stream",
     "text": [
      "Hello, World!\n"
     ]
    }
   ],
   "source": [
    "print(\"Hello, World!\")"
   ]
  },
  {
   "cell_type": "markdown",
   "metadata": {},
   "source": [
    "Python If-Else"
   ]
  },
  {
   "cell_type": "code",
   "execution_count": 1,
   "metadata": {},
   "outputs": [
    {
     "name": "stdout",
     "output_type": "stream",
     "text": [
      "10\n",
      "Weird\n"
     ]
    }
   ],
   "source": [
    "import math\n",
    "import os\n",
    "import random\n",
    "import re\n",
    "import sys\n",
    "\n",
    "\n",
    "\n",
    "if __name__ == '__main__':\n",
    "    n = int(input().strip())\n",
    "    if n%2!=0: \n",
    "        print(\"Weird\")\n",
    "    elif 2<=n<=5: \n",
    "        print(\"Not Weird\")\n",
    "    elif 6<=n<=20:\n",
    "        print(\"Weird\")\n",
    "    elif n>20:\n",
    "        print(\"Not Weird\")"
   ]
  },
  {
   "cell_type": "markdown",
   "metadata": {},
   "source": [
    "Arithmetic Operators"
   ]
  },
  {
   "cell_type": "code",
   "execution_count": 6,
   "metadata": {},
   "outputs": [
    {
     "name": "stdout",
     "output_type": "stream",
     "text": [
      "24\n",
      "25\n",
      "49\n",
      "-1\n",
      "600\n"
     ]
    }
   ],
   "source": [
    "if __name__ == '__main__':\n",
    "    a = int(input())\n",
    "    b = int(input())\n",
    "\n",
    "\n",
    "print(a+b)\n",
    "print(a-b)\n",
    "print(a*b)\n"
   ]
  },
  {
   "cell_type": "markdown",
   "metadata": {},
   "source": [
    "Python: Division"
   ]
  },
  {
   "cell_type": "code",
   "execution_count": null,
   "metadata": {},
   "outputs": [],
   "source": [
    "if __name__ == '__main__':    \n",
    "    a = int(input())\n",
    "    b = int(input())\n",
    "print(a//b)\n",
    "print(a/b)\n"
   ]
  },
  {
   "cell_type": "markdown",
   "metadata": {},
   "source": [
    "Loops"
   ]
  },
  {
   "cell_type": "code",
   "execution_count": null,
   "metadata": {},
   "outputs": [],
   "source": [
    "if __name__ == '__main__':\n",
    "    n = int(input())\n",
    "    for i in range(0,n):\n",
    "        print(i**2)"
   ]
  },
  {
   "cell_type": "markdown",
   "metadata": {},
   "source": [
    "   Write Function"
   ]
  },
  {
   "cell_type": "code",
   "execution_count": 4,
   "metadata": {},
   "outputs": [
    {
     "name": "stdout",
     "output_type": "stream",
     "text": [
      "2010\n",
      "False\n"
     ]
    }
   ],
   "source": [
    "def is_leap(year):\n",
    "    leap = False\n",
    "    if year % 4 == 0 and  year % 100 != 0 or year %400==0: \n",
    "        leap=True\n",
    "    else:\n",
    "        leap=False\n",
    "\n",
    "    # Write your logic here\n",
    "    \n",
    "    return leap\n",
    "\n",
    "year = int(input())\n",
    "print(is_leap(year))"
   ]
  },
  {
   "cell_type": "markdown",
   "metadata": {},
   "source": [
    "Print Function"
   ]
  },
  {
   "cell_type": "code",
   "execution_count": 14,
   "metadata": {},
   "outputs": [
    {
     "name": "stdout",
     "output_type": "stream",
     "text": [
      "4\n",
      "1234"
     ]
    }
   ],
   "source": [
    "if __name__ == '__main__':\n",
    "  n = int(input())\n",
    "\n",
    "for i in range(1,n+1):\n",
    "    print(i,end='')"
   ]
  },
  {
   "cell_type": "markdown",
   "metadata": {},
   "source": [
    "BASIC DATA TYPES\n",
    "\n",
    "List Comprehensions"
   ]
  },
  {
   "cell_type": "code",
   "execution_count": 15,
   "metadata": {},
   "outputs": [
    {
     "name": "stdout",
     "output_type": "stream",
     "text": [
      "2\n",
      "3\n",
      "4\n",
      "5\n",
      "[[0, 0, 0], [0, 0, 1], [0, 0, 2], [0, 0, 3], [0, 0, 4], [0, 1, 0], [0, 1, 1], [0, 1, 2], [0, 1, 3], [0, 2, 0], [0, 2, 1], [0, 2, 2], [0, 2, 4], [0, 3, 0], [0, 3, 1], [0, 3, 3], [0, 3, 4], [1, 0, 0], [1, 0, 1], [1, 0, 2], [1, 0, 3], [1, 1, 0], [1, 1, 1], [1, 1, 2], [1, 1, 4], [1, 2, 0], [1, 2, 1], [1, 2, 3], [1, 2, 4], [1, 3, 0], [1, 3, 2], [1, 3, 3], [1, 3, 4], [2, 0, 0], [2, 0, 1], [2, 0, 2], [2, 0, 4], [2, 1, 0], [2, 1, 1], [2, 1, 3], [2, 1, 4], [2, 2, 0], [2, 2, 2], [2, 2, 3], [2, 2, 4], [2, 3, 1], [2, 3, 2], [2, 3, 3], [2, 3, 4]]\n"
     ]
    }
   ],
   "source": [
    "if __name__ == '__main__':\n",
    "    x = int(input())\n",
    "    y = int(input())\n",
    "    z = int(input())\n",
    "    n = int(input())\n",
    "array = [] \n",
    "    \n",
    "\n",
    "for i in range(x+1):\n",
    "    for j in range(y+1): \n",
    "        for k in range(z+1):\n",
    "            if i + j + k !=n: \n",
    "                array.append([i,j,k])\n",
    "print(array)"
   ]
  },
  {
   "cell_type": "markdown",
   "metadata": {},
   "source": [
    "Find the Runner-Up Score!"
   ]
  },
  {
   "cell_type": "code",
   "execution_count": null,
   "metadata": {},
   "outputs": [],
   "source": [
    "n = int(input())\n",
    "arr = sorted(list(map(int, input().split())))\n",
    "max = -100\n",
    "runner = -100\n",
    "for i in arr:\n",
    "    if i > max:\n",
    "        runner = max\n",
    "        max = i\n",
    "print(runner)"
   ]
  },
  {
   "cell_type": "markdown",
   "metadata": {},
   "source": [
    "Nested Lists"
   ]
  },
  {
   "cell_type": "code",
   "execution_count": 43,
   "metadata": {},
   "outputs": [],
   "source": [
    "score_student= [] \n",
    "score_list = []\n",
    "for _ in range(int(input())):\n",
    "    name = input()\n",
    "    score = float(input())\n",
    "    score_student.append([name,score])\n",
    "    score_list.append(score)\n",
    "\n",
    "\n",
    "second_lowest_score = sorted(list(dict.fromkeys(score_list)))[1]\n",
    "\n",
    "for name,marks in sorted(score_student):\n",
    "    if marks == second_lowest_score:\n",
    "        print(name)"
   ]
  },
  {
   "cell_type": "markdown",
   "metadata": {},
   "source": [
    "Finding the percentage"
   ]
  },
  {
   "cell_type": "code",
   "execution_count": null,
   "metadata": {},
   "outputs": [],
   "source": [
    "from decimal import Decimal\n",
    "from statistics import mean \n",
    "\n",
    "if __name__ == '__main__':\n",
    "    n = int(input())\n",
    "    student_marks = {}\n",
    "    for _ in range(n):\n",
    "        name, *line = input().split()\n",
    "        scores = list(map(float, line))\n",
    "        student_marks[name] = scores\n",
    "    query_name = input()\n",
    "print(round(Decimal(mean(student_marks[query_name])),2)) \n",
    "\n",
    "\n",
    "\n"
   ]
  },
  {
   "cell_type": "markdown",
   "metadata": {},
   "source": [
    "Lists"
   ]
  },
  {
   "cell_type": "code",
   "execution_count": null,
   "metadata": {},
   "outputs": [],
   "source": [
    "array = []\n",
    "n = int(input())\n",
    "for i in range(0, n):\n",
    "    object = input().split()\n",
    "\n",
    "    if object[0] == 'insert':\n",
    "        array.insert(int(object[1]), int(object[2]))\n",
    "    elif object[0] == 'print':\n",
    "        print (array)\n",
    "    elif object[0] == 'remove':\n",
    "         array.remove(int(object[1]))\n",
    "    elif object[0] == 'append':\n",
    "         array.append(int(object[1]))\n",
    "    elif object[0] == 'sort':\n",
    "         array.sort()\n",
    "    elif object[0] == 'pop':\n",
    "         array.pop()\n",
    "    elif object[0] == 'reverse':\n",
    "         array.reverse()"
   ]
  },
  {
   "cell_type": "markdown",
   "metadata": {},
   "source": [
    "Tuples"
   ]
  },
  {
   "cell_type": "code",
   "execution_count": 59,
   "metadata": {},
   "outputs": [
    {
     "name": "stdout",
     "output_type": "stream",
     "text": [
      "2\n",
      "1 2 \n",
      "2\n"
     ]
    }
   ],
   "source": [
    "if __name__ == '__main__':\n",
    "    n = int(input())\n",
    "    integer_list = map(int, input().split())\n",
    "    print(hash(tuple(integer_list)), end=\"\")\n"
   ]
  },
  {
   "cell_type": "markdown",
   "metadata": {},
   "source": [
    "STRINGS\n",
    "\n",
    "sWAP cASE"
   ]
  },
  {
   "cell_type": "code",
   "execution_count": null,
   "metadata": {},
   "outputs": [],
   "source": [
    "def swap_case(s):\n",
    "    new = ''                  #creo la stringa nuova vuota dove inserirò i caratteri modificati\n",
    "    for c in s:                 #per ogni carattere nella string di input, controllo\n",
    "        if c.islower():         #se il carattere è minuscolo\n",
    "            new += c.upper()    #lo scrivo maiuscolo nella stringa nuova\n",
    "        else:                   #se è maiuscolo\n",
    "            new += c.lower()    #lo scrivo minuscolo\n",
    "    return new                  #ritorno la stringa nuova che ora contiene i caratteri scambiati\n",
    "\n",
    "\n",
    "if __name__ == '__main__':\n",
    "    s = input()\n",
    "    result = swap_case(s)\n",
    "    print(result)"
   ]
  },
  {
   "cell_type": "markdown",
   "metadata": {},
   "source": [
    "String Split and Join"
   ]
  },
  {
   "cell_type": "code",
   "execution_count": 66,
   "metadata": {},
   "outputs": [
    {
     "name": "stdout",
     "output_type": "stream",
     "text": [
      "ciao none\n",
      "ciao-none\n"
     ]
    }
   ],
   "source": [
    "def split_and_join(line):\n",
    "    line=line.split(\" \")\n",
    "    line=\"-\".join(line)\n",
    "    return line\n",
    "if __name__ == '__main__':\n",
    "    line = input()\n",
    "    result = split_and_join(line)\n",
    "    print(result)"
   ]
  },
  {
   "cell_type": "markdown",
   "metadata": {},
   "source": [
    "What's Your Name?\n"
   ]
  },
  {
   "cell_type": "code",
   "execution_count": 73,
   "metadata": {},
   "outputs": [],
   "source": [
    "def print_full_name(a, b):\n",
    "    print(\"Hello \"+a+' '+b+\"!\"+\" You just delved into python.\",end=\"\")\n",
    "    \n",
    "if __name__ == '__main__':\n",
    "    first_name = input()\n",
    "    last_name = input()\n",
    "    print_full_name(first_name, last_name)"
   ]
  },
  {
   "cell_type": "markdown",
   "metadata": {},
   "source": [
    "Mutations"
   ]
  },
  {
   "cell_type": "code",
   "execution_count": null,
   "metadata": {},
   "outputs": [],
   "source": [
    "def mutate_string(s, i, c):\n",
    "   s=s[:i]+c+s[i+1:]\n",
    "   return s\n",
    "if __name__ == '__main__':\n",
    "    s = input()\n",
    "    i, c = input().split()\n",
    "    s_new = mutate_string(s, int(i), c)\n",
    "    print(s_new)"
   ]
  },
  {
   "cell_type": "markdown",
   "metadata": {},
   "source": [
    "Find a string"
   ]
  },
  {
   "cell_type": "code",
   "execution_count": null,
   "metadata": {},
   "outputs": [],
   "source": [
    "def count_substring(string, sub_string):\n",
    "    count=0  \n",
    "    idx=None    \n",
    "    for i in range(len(string)):\n",
    "        if len(string)>len(sub_string):             \n",
    "            idx=string.find(sub_string)            \n",
    "            if (idx>=0):\n",
    "                count += 1\n",
    "            string=string[(idx+1):]\n",
    "    return count\n",
    "if __name__ == '__main__':\n",
    "    string = input().strip()\n",
    "    sub_string = input().strip()\n",
    "    \n",
    "    count = count_substring(string, sub_string)\n",
    "    print(count)"
   ]
  },
  {
   "cell_type": "markdown",
   "metadata": {},
   "source": [
    "String Validators"
   ]
  },
  {
   "cell_type": "code",
   "execution_count": null,
   "metadata": {},
   "outputs": [],
   "source": [
    "s=input()\n",
    "print(any(map(str.isalnum,s)))\n",
    "print(any(map(str.isalpha,s)))\n",
    "print(any(map(str.isdigit,s)))\n",
    "print(any(map(str.islower,s)))\n",
    "print(any(map(str.isupper,s)))"
   ]
  },
  {
   "cell_type": "markdown",
   "metadata": {},
   "source": [
    "Text Alignment"
   ]
  },
  {
   "cell_type": "code",
   "execution_count": null,
   "metadata": {},
   "outputs": [],
   "source": [
    "#Replace all ____ with rjust, ljust or center. \n",
    "\n",
    "thickness = int(input()) #This must be an odd number\n",
    "c = 'H'\n",
    "\n",
    "#Top Cone\n",
    "for i in range(thickness):\n",
    "    print((c*i).rjust(thickness-1)+c+(c*i).ljust(thickness-1))\n",
    "\n",
    "#Top Pillars\n",
    "for i in range(thickness+1):\n",
    "    print((c*thickness).center(thickness*2)+(c*thickness).center(thickness*6))\n",
    "\n",
    "#Middle Belt\n",
    "for i in range((thickness+1)//2):\n",
    "    print((c*thickness*5).center(thickness*6))    \n",
    "\n",
    "#Bottom Pillars\n",
    "for i in range(thickness+1):\n",
    "    print((c*thickness).center(thickness*2)+(c*thickness).center(thickness*6))    \n",
    "\n",
    "#Bottom Cone\n",
    "for i in range(thickness):\n",
    "    print(((c*(thickness-i-1)).rjust(thickness)+c+(c*(thickness-i-1)).ljust(thickness)).rjust(thickness*6))"
   ]
  },
  {
   "cell_type": "markdown",
   "metadata": {},
   "source": [
    "Text Wrap"
   ]
  },
  {
   "cell_type": "code",
   "execution_count": null,
   "metadata": {},
   "outputs": [],
   "source": [
    "import textwrap\n",
    "\n",
    "def wrap(string, max_width):\n",
    "    for i in range(0,len(string)+1,max_width):\n",
    "        print(string[i:max_width+i])\n",
    "if __name__ == '__main__':\n",
    "    string, max_width = input(), int(input())\n",
    "    result = wrap(string, max_width)\n",
    "    print(result)"
   ]
  },
  {
   "cell_type": "markdown",
   "metadata": {},
   "source": [
    "Designer Door Mat"
   ]
  },
  {
   "cell_type": "code",
   "execution_count": null,
   "metadata": {},
   "outputs": [],
   "source": [
    "N,M=map(int,input().split())\n",
    "a=[('.|.'*i).center(M,'-') for i in range(1,N,2)]\n",
    "for b in a+['WELCOME'.center(M,'-')]+list(reversed(a)):\n",
    "                print(b)"
   ]
  },
  {
   "cell_type": "markdown",
   "metadata": {},
   "source": [
    "String Formatting"
   ]
  },
  {
   "cell_type": "code",
   "execution_count": null,
   "metadata": {},
   "outputs": [],
   "source": [
    "def print_formatted(number):\n",
    "    width = len('{:b}'.format(number))\n",
    "    for i in range(1, number+1):\n",
    "         print (str.rjust(str(i), width),\\\n",
    "        str.rjust('{:o}'.format(i), width),\\\n",
    "        str.rjust('{:X}'.format(i), width),\\\n",
    "        str.rjust('{:b}'.format(i), width))\n",
    "    \n",
    "if __name__ == '__main__':\n",
    "    n = int(input())\n",
    "    print_formatted(n)"
   ]
  },
  {
   "cell_type": "markdown",
   "metadata": {},
   "source": [
    "Alphabet Rangoli"
   ]
  },
  {
   "cell_type": "code",
   "execution_count": null,
   "metadata": {},
   "outputs": [],
   "source": [
    "def print_rangoli(size):\n",
    "    alphabet = \"abcdefghijklmnopqrstuvwxyz\"\n",
    "    sub_alph = alphabet[:size]\n",
    "    width = 4*size - 3\n",
    "     \n",
    "    for i in range(size):\n",
    "         print(((\"-\".join(sub_alph[-1-i:])[1:])[::-1] +  \"-\".join(sub_alph[-1-i:])).center(width,\"-\"))\n",
    " \n",
    "    for i in reversed(range(size-1)):\n",
    "        print(((\"-\".join(sub_alph[-1-i:])[1:])[::-1] +  \"-\".join(sub_alph[-1-i:])).center(width,\"-\"))\n",
    "         \n",
    "\n",
    "if __name__ == '__main__':\n",
    "    n = int(input())\n",
    "    print_rangoli(n)"
   ]
  },
  {
   "cell_type": "markdown",
   "metadata": {},
   "source": [
    "Capitalize!"
   ]
  },
  {
   "cell_type": "code",
   "execution_count": null,
   "metadata": {},
   "outputs": [],
   "source": [
    "def solve(s):\n",
    "    names = s.split(' ')\n",
    "    S= []\n",
    "    a=' '\n",
    "    for name in names:\n",
    "        S.append(name.capitalize ())\n",
    "    result= a.join(S)\n",
    "    return(result)\n",
    "if __name__ == '__main__':\n",
    "    fptr = open(os.environ['OUTPUT_PATH'], 'w')\n",
    "\n",
    "    s = input()\n",
    "\n",
    "    result = solve(s)\n",
    "\n",
    "    fptr.write(result + '\\n')\n",
    "\n",
    "    fptr.close()"
   ]
  },
  {
   "cell_type": "markdown",
   "metadata": {},
   "source": [
    "The minion game"
   ]
  },
  {
   "cell_type": "code",
   "execution_count": null,
   "metadata": {},
   "outputs": [],
   "source": [
    "def minion_game(s):\n",
    "    V = frozenset(\"AEIOU\")\n",
    "    n = len(s)\n",
    "    ksc = sum(q for c, q in zip(s, range(n, 0, -1)) if c in V)\n",
    "    ssc = n * (n + 1) // 2 - ksc\n",
    "    if ksc > ssc:\n",
    "        print(\"Kevin {:d}\".format(ksc))\n",
    "    elif ssc > ksc:\n",
    "        print(\"Stuart {:d}\".format(ssc))\n",
    "    else:\n",
    "        print(\"Draw\")\n",
    "if __name__ == '__main__':\n",
    "    s = input()\n",
    "    minion_game(s)"
   ]
  },
  {
   "cell_type": "markdown",
   "metadata": {},
   "source": [
    "Merge the Tools!"
   ]
  },
  {
   "cell_type": "code",
   "execution_count": null,
   "metadata": {},
   "outputs": [],
   "source": [
    "import textwrap\n",
    "from collections import OrderedDict\n",
    " \n",
    "def merge_the_tools(string, k):\n",
    "     \n",
    "    #split string into k slices\n",
    "    list_t = textwrap.wrap(string, k)\n",
    "    #use orderedDict to remove duplicates preserving \n",
    "    for t in list_t:\n",
    "        print(\"\".join(OrderedDict.fromkeys(t)))\n",
    "if __name__ == '__main__':\n",
    "    string, k = input(), int(input())\n",
    "    merge_the_tools(string, k)"
   ]
  },
  {
   "cell_type": "markdown",
   "metadata": {},
   "source": [
    "SETS\n",
    "Introduction to Sets"
   ]
  },
  {
   "cell_type": "code",
   "execution_count": null,
   "metadata": {},
   "outputs": [],
   "source": [
    "def average(array):\n",
    "    # your code goes here\n",
    "    return sum(set(array))/len(set(array))\n",
    "if __name__ == '__main__':\n",
    "    n = int(input())\n",
    "    arr = list(map(int, input().split()))\n",
    "    result = average(arr)\n",
    "    print(result)"
   ]
  },
  {
   "cell_type": "markdown",
   "metadata": {},
   "source": [
    "No Idea!"
   ]
  },
  {
   "cell_type": "code",
   "execution_count": null,
   "metadata": {},
   "outputs": [],
   "source": [
    "count = list(map(int,input().strip().split()))\n",
    "m = count[0]\n",
    "n = count[1]\n",
    "Arr = list(map(int,input().strip().split()))\n",
    "A = set(map(int,input().strip().split()))\n",
    "B = set(map(int,input().strip().split()))\n",
    "happy = 0\n",
    "for i in Arr:\n",
    "    if i in A : happy = happy + 1\n",
    "    elif i in B : happy = happy - 1\n",
    "print (happy  ) "
   ]
  },
  {
   "cell_type": "markdown",
   "metadata": {},
   "source": [
    "Symmetric Difference"
   ]
  },
  {
   "cell_type": "code",
   "execution_count": null,
   "metadata": {},
   "outputs": [],
   "source": [
    "M = input()\n",
    "a = input()\n",
    "lst1 = a.split()\n",
    "newlst1 = list(map(int, lst1))\n",
    "set1 = set(newlst1)\n",
    "N = input()\n",
    "b = input()\n",
    "lst2 = b.split()\n",
    "newlst2 = list(map(int, lst2))\n",
    "set2 = set(newlst2)\n",
    "x = set1.difference(set2)\n",
    "#print x\n",
    "y = set2.difference(set1)\n",
    "#print y\n",
    "z = set()\n",
    "z = x.union(y)\n",
    "#print z\n",
    "lst = list(z)\n",
    "lst = sorted(lst)\n",
    "for i in range(len(lst)):\n",
    "    print (lst[i])"
   ]
  },
  {
   "cell_type": "markdown",
   "metadata": {},
   "source": [
    "Set.add()"
   ]
  },
  {
   "cell_type": "code",
   "execution_count": null,
   "metadata": {},
   "outputs": [],
   "source": [
    "settino = set()\n",
    "n = int(input())\n",
    "\n",
    "for _ in range(n):\n",
    "    settino.add(input())\n",
    "\n",
    "print (len(settino))"
   ]
  },
  {
   "cell_type": "markdown",
   "metadata": {},
   "source": [
    "Set .discard(), .remove() & .pop()"
   ]
  },
  {
   "cell_type": "code",
   "execution_count": null,
   "metadata": {},
   "outputs": [],
   "source": [
    "n = int(input())\n",
    "s = set(map(int, input().split()))\n",
    "m=int(input())\n",
    "for i in range(m):\n",
    "    p= input().split()\n",
    "    if p[0]==\"remove\":\n",
    "        s.remove(int(p[1]))\n",
    "    elif p[0]==\"discard\":\n",
    "        s.discard(int(p[1]))\n",
    "    else:\n",
    "        s.pop()\n",
    "print (sum(list(s)))"
   ]
  },
  {
   "cell_type": "markdown",
   "metadata": {},
   "source": [
    "Set .union() Operation"
   ]
  },
  {
   "cell_type": "code",
   "execution_count": null,
   "metadata": {},
   "outputs": [],
   "source": [
    "n1=input()\n",
    "s1=set(input().split(\" \"))\n",
    "n2=input()\n",
    "s2=set(input().split(\" \"))\n",
    "s3=s1.union(s2)\n",
    "print (len(s3))"
   ]
  },
  {
   "cell_type": "markdown",
   "metadata": {},
   "source": [
    "Set .intersection() Operation\n",
    "\n"
   ]
  },
  {
   "cell_type": "code",
   "execution_count": null,
   "metadata": {},
   "outputs": [],
   "source": [
    "input()\n",
    "A = set(input().split(\" \"))\n",
    "\n",
    "input()\n",
    "B = set(input().split(\" \"))\n",
    "\n",
    "print (len(A.intersection(B)))"
   ]
  },
  {
   "cell_type": "markdown",
   "metadata": {},
   "source": [
    "Set .difference() Operation"
   ]
  },
  {
   "cell_type": "code",
   "execution_count": null,
   "metadata": {},
   "outputs": [],
   "source": [
    "eng=int(input())\n",
    "rn1=list(map(int,input().split()))\n",
    "fre=int(input())\n",
    "rn2=list(map(int,input().split()))\n",
    "count=0\n",
    "for i in rn1:\n",
    "    if i not in rn2:\n",
    "        count=count+1\n",
    "print(count)"
   ]
  },
  {
   "cell_type": "markdown",
   "metadata": {},
   "source": [
    "Set .symmetric_difference() Operation"
   ]
  },
  {
   "cell_type": "code",
   "execution_count": null,
   "metadata": {},
   "outputs": [],
   "source": [
    "a=int(input())\n",
    "a1=input()\n",
    "b=int(input())\n",
    "b1=input()\n",
    "k1=a1.split(\" \")\n",
    "k2=b1.split(\" \")\n",
    "k1n= list(map(int, k1))\n",
    "k2n= list(map(int, k2))\n",
    "ms1=set(k1n)\n",
    "ms2=set(k2n)\n",
    "l=ms1.symmetric_difference(ms2)\n",
    "print(len(l))"
   ]
  },
  {
   "cell_type": "markdown",
   "metadata": {},
   "source": [
    "Set Mutations\n",
    "\n"
   ]
  },
  {
   "cell_type": "code",
   "execution_count": null,
   "metadata": {},
   "outputs": [],
   "source": [
    "if __name__ == '__main__':\n",
    "    (_, A) = (int(input()),set(map(int, input().split())))\n",
    "    B = int(input())\n",
    "    for _ in range(B):\n",
    "        (command, newSet) = (input().split()[0],set(map(int, input().split())))\n",
    "        getattr(A, command)(newSet)\n",
    "\n",
    "    print (sum(A))"
   ]
  },
  {
   "cell_type": "markdown",
   "metadata": {},
   "source": [
    "The Captain's Room"
   ]
  },
  {
   "cell_type": "code",
   "execution_count": null,
   "metadata": {},
   "outputs": [],
   "source": [
    "k = int(input())\n",
    "L = str(input()).split(\" \")\n",
    "family = L\n",
    "total = set(L)\n",
    "for r in set(L):\n",
    "    try:\n",
    "        family.remove(r)\n",
    "    except:\n",
    "        pass\n",
    "print (\"\".join((total - set(family))))"
   ]
  },
  {
   "cell_type": "markdown",
   "metadata": {},
   "source": [
    "Check Subset"
   ]
  },
  {
   "cell_type": "code",
   "execution_count": null,
   "metadata": {},
   "outputs": [],
   "source": [
    "import sys\n",
    "#This is a kind of golf mission; submit only below.\n",
    "for _ in range(int(input())):\n",
    "    input();s1=set(map(int,input().split()))\n",
    "    input();s2=set(map(int,input().split()))\n",
    "    print(s2==s1.union(s2))"
   ]
  },
  {
   "cell_type": "markdown",
   "metadata": {},
   "source": [
    "Check Strict Superset"
   ]
  },
  {
   "cell_type": "code",
   "execution_count": null,
   "metadata": {},
   "outputs": [],
   "source": [
    "A = set(map(int,input().split()))\n",
    "b = False\n",
    "for _ in range(int(input())):\n",
    "    s = set(map(int, input().split()))\n",
    "    if A.issuperset(s):\n",
    "        if len(A)>len(s):\n",
    "            b = True\n",
    "        else:\n",
    "            b = False\n",
    "            break\n",
    "    else:\n",
    "        b = False\n",
    "        break\n",
    "print(b)"
   ]
  },
  {
   "cell_type": "markdown",
   "metadata": {},
   "source": [
    "COLLECTIONS\n",
    "\n",
    "collections.Counter()"
   ]
  },
  {
   "cell_type": "code",
   "execution_count": null,
   "metadata": {},
   "outputs": [],
   "source": [
    "from collections import Counter\n",
    "X = int(input())\n",
    "sizes = Counter(map(int, input().split()))\n",
    "N = int(input())\n",
    "\n",
    "money = 0\n",
    "\n",
    "for i in range(N):\n",
    "    (size, price) = map(int, input().split())\n",
    "\n",
    "    if sizes[size] > 0:\n",
    "        sizes[size] -= 1\n",
    "        money += price\n",
    "\n",
    "print(money)"
   ]
  },
  {
   "cell_type": "markdown",
   "metadata": {},
   "source": [
    "DefaultDict Tutorial\n",
    "\n"
   ]
  },
  {
   "cell_type": "code",
   "execution_count": null,
   "metadata": {},
   "outputs": [],
   "source": [
    "from collections import defaultdict\n",
    "N,M=map(int,input().split())\n",
    "d=defaultdict(list)\n",
    "for i in range(N):\n",
    "    s=input().rstrip()\n",
    "    d[s].append(i+1)\n",
    "for _ in range(M):\n",
    "    s=input().rstrip()\n",
    "    if s in d:\n",
    "        print(' '.join(map(str,d[s])))\n",
    "    else:\n",
    "        print('-1')"
   ]
  },
  {
   "cell_type": "markdown",
   "metadata": {},
   "source": [
    "Collections.namedtuple()\n",
    "\n"
   ]
  },
  {
   "cell_type": "code",
   "execution_count": 9,
   "metadata": {},
   "outputs": [
    {
     "name": "stdout",
     "output_type": "stream",
     "text": [
      "3\n"
     ]
    }
   ],
   "source": [
    "from __future__ import division\n",
    "import collections\n",
    "\n",
    "N = int(input())\n",
    "columns = ','.join(input().split())\n",
    "Student = collections.namedtuple('Student', columns)\n",
    "\n",
    "sum = 0\n",
    "for i in range(N):\n",
    "    line = input().split()\n",
    "    student = Student(*line)\n",
    "    sum += int(student.MARKS)\n",
    "\n",
    "print (sum / N)"
   ]
  },
  {
   "cell_type": "markdown",
   "metadata": {},
   "source": [
    "Collections.OrderedDict()\n",
    "\n"
   ]
  },
  {
   "cell_type": "code",
   "execution_count": null,
   "metadata": {},
   "outputs": [],
   "source": [
    "from collections import OrderedDict\n",
    "\n",
    "number_ = int(input())\n",
    "odict = OrderedDict()\n",
    "for i in range(number_):\n",
    "    litem = input().split(' ')\n",
    "    price = int(litem[-1])\n",
    "    item_name = \" \".join(litem[:-1])\n",
    "    if odict.get(item_name):\n",
    "        odict[item_name] += price\n",
    "    else:\n",
    "        odict[item_name] = price\n",
    "\n",
    "for i,v in odict.items():\n",
    "    print(i,v)"
   ]
  },
  {
   "cell_type": "markdown",
   "metadata": {},
   "source": [
    "Word Order "
   ]
  },
  {
   "cell_type": "code",
   "execution_count": null,
   "metadata": {},
   "outputs": [],
   "source": [
    "from collections import Counter\n",
    "from collections import OrderedDict\n",
    "\n",
    "n = int(input())    #numero di linee che avrò in input\n",
    "ordered_dict = OrderedDict()\n",
    "for i in range(n):\n",
    "    a = str(input())\n",
    "    if a in ordered_dict.keys():\n",
    "        ordered_dict[a] += 1\n",
    "    else:\n",
    "        ordered_dict[a] = 1\n",
    "print(len(ordered_dict))\n",
    "s = \"\"\n",
    "for i in ordered_dict.values():\n",
    "    s += str(i)+\" \"\n",
    "print(s)"
   ]
  },
  {
   "cell_type": "markdown",
   "metadata": {},
   "source": [
    "Collections.deque()"
   ]
  },
  {
   "cell_type": "code",
   "execution_count": null,
   "metadata": {},
   "outputs": [],
   "source": [
    "from collections import deque\n",
    "\n",
    "d = deque()\n",
    "\n",
    "for _ in range(int(input())):\n",
    "    args = input().strip().split()\n",
    "    if (args[0] == 'append'):\n",
    "        d.append(args[1])\n",
    "    elif (args[0] == 'pop'):\n",
    "        d.pop()\n",
    "    elif (args[0] == 'popleft'):\n",
    "        d.popleft()\n",
    "    elif (args[0] == 'appendleft'):\n",
    "        d.appendleft(args[1])\n",
    "\n",
    "print (' '.join(d))"
   ]
  },
  {
   "cell_type": "markdown",
   "metadata": {},
   "source": [
    "Company Logo"
   ]
  },
  {
   "cell_type": "code",
   "execution_count": null,
   "metadata": {},
   "outputs": [],
   "source": [
    "commons = dict()\n",
    "counter = dict()\n",
    "\n",
    "def key(item):\n",
    "    return item[1]*128 + 128-ord(item[0])\n",
    "\n",
    "for c in input():\n",
    "    counter[c] = counter.get(c, 0) + 1\n",
    "\n",
    "for k, v in counter.items():\n",
    "    if len(commons) < 3:\n",
    "        commons[k] = v\n",
    "    else:\n",
    "        min_item = min(commons.items(), key=key)\n",
    "        commons.pop(min_item[0])\n",
    "        max_item = max(min_item, (k, v), key=key)\n",
    "        commons[max_item[0]] = max_item[1]\n",
    "\n",
    "for item in sorted(commons.items(), key=key, reverse=True):\n",
    "    print(\"%s %d\" % item)"
   ]
  },
  {
   "cell_type": "markdown",
   "metadata": {},
   "source": [
    "Piling Up!\n"
   ]
  },
  {
   "cell_type": "code",
   "execution_count": null,
   "metadata": {},
   "outputs": [],
   "source": [
    "from collections import deque\n",
    "for _ in range(int(input())):\n",
    "    flag = True\n",
    "    input()\n",
    "    d = deque(map(int, input().strip().split()))\n",
    "    if (d[0] >= d[-1]):\n",
    "        max = d.popleft()\n",
    "    else:\n",
    "        max = d.pop()\n",
    "    while d:\n",
    "        if (len(d) == 1):\n",
    "            if (d[0] <= max):\n",
    "                break\n",
    "            else:\n",
    "                flag = False\n",
    "                break;\n",
    "        else:\n",
    "            if d[0] <= max and d[-1] <= max:\n",
    "                if d[0] >= d[-1]:\n",
    "                    max = d.popleft()\n",
    "                else:\n",
    "                    max = d.pop()\n",
    "            elif d[0] <= max:\n",
    "                max = d.popleft()\n",
    "            elif d[-1] <= max:\n",
    "                max = d.pop()\n",
    "            else:\n",
    "                flag = False\n",
    "                break;\n",
    "\n",
    "    if flag:\n",
    "        print (\"Yes\")\n",
    "    else:\n",
    "        print (\"No\")"
   ]
  },
  {
   "cell_type": "markdown",
   "metadata": {},
   "source": [
    "DATE AND TIME \n",
    "\n",
    "Calendar Module "
   ]
  },
  {
   "cell_type": "code",
   "execution_count": 11,
   "metadata": {},
   "outputs": [
    {
     "name": "stdout",
     "output_type": "stream",
     "text": [
      "<class 'calendar.TextCalendar'>\n"
     ]
    }
   ],
   "source": [
    "import calendar\n",
    "\n",
    "date = input().strip().split()\n",
    "\n",
    "days = list(calendar.day_name)\n",
    "print (days[calendar.weekday(int(date[2]), int(date[0]), int(date[1]))].upper() )"
   ]
  },
  {
   "cell_type": "markdown",
   "metadata": {},
   "source": [
    "Time Delta\n",
    "\n"
   ]
  },
  {
   "cell_type": "code",
   "execution_count": null,
   "metadata": {},
   "outputs": [],
   "source": [
    "###"
   ]
  },
  {
   "cell_type": "markdown",
   "metadata": {},
   "source": [
    "Exceptions\n"
   ]
  },
  {
   "cell_type": "code",
   "execution_count": 13,
   "metadata": {},
   "outputs": [
    {
     "name": "stdout",
     "output_type": "stream",
     "text": [
      "3\n",
      "1 3\n",
      "0\n",
      "2 5 \n",
      "0\n",
      "444\n",
      "Error Code: not enough values to unpack (expected 2, got 1)\n"
     ]
    }
   ],
   "source": [
    "for i in range(int(input())):  \n",
    "    try:\n",
    "        a,b= map(int,input().split())\n",
    "        print(a//b)\n",
    "    except BaseException as e:\n",
    "        print(\"Error Code:\",e)"
   ]
  },
  {
   "cell_type": "markdown",
   "metadata": {},
   "source": [
    "Built-ins\n",
    "\n",
    "Zipped"
   ]
  },
  {
   "cell_type": "code",
   "execution_count": null,
   "metadata": {},
   "outputs": [],
   "source": [
    "n, x = input().split()\n",
    "n = int(n)  # student count\n",
    "x = int(x)  # subject count\n",
    "grades = [list(map(float, input().split())) for i in range(x)]\n",
    "grades_by_student = zip(*grades)\n",
    "average_by_student = [sum(i) / len(i) for i in list(grades_by_student)]\n",
    "average_by_student = [round(i, 1) for i in average_by_student]\n",
    "\n",
    "for i in average_by_student:\n",
    "    print(i)\n",
    "\n"
   ]
  },
  {
   "cell_type": "markdown",
   "metadata": {},
   "source": [
    "Athlete Sort\n",
    "\n"
   ]
  },
  {
   "cell_type": "code",
   "execution_count": null,
   "metadata": {},
   "outputs": [],
   "source": [
    "###"
   ]
  },
  {
   "cell_type": "markdown",
   "metadata": {},
   "source": [
    "ginortS"
   ]
  },
  {
   "cell_type": "code",
   "execution_count": 46,
   "metadata": {},
   "outputs": [
    {
     "name": "stdout",
     "output_type": "stream",
     "text": [
      "Sorting1234\n",
      "ginortS1324\n"
     ]
    }
   ],
   "source": [
    "# Enter your code here. Read input from STDIN. Print output to STDOUT\n",
    "\n",
    "s=input()\n",
    "lista_m=[]\n",
    "lista_min=[]\n",
    "lista_p=[]\n",
    "lista_d=[]\n",
    "for i in range(0,len(s)):\n",
    "    if s[i].isalpha():\n",
    "        if s[i].isupper()==True:\n",
    "            lista_m.append(s[i])\n",
    "        else:\n",
    "            lista_min.append(s[i])\n",
    "    elif s[i].isnumeric():\n",
    "        if int(s[i])%2==0:\n",
    "            lista_p.append(s[i])\n",
    "        else:\n",
    "            lista_d.append(s[i])\n",
    "            \n",
    "lista_m.sort()\n",
    "lista_min.sort()\n",
    "lista_p.sort()\n",
    "lista_d.sort()\n",
    "\n",
    "\n",
    "lista=lista_min+lista_m+lista_d+lista_p\n",
    "print(\"\".join(lista))\n",
    "\n",
    "\n"
   ]
  },
  {
   "cell_type": "markdown",
   "metadata": {},
   "source": [
    "Map and Lambda Function"
   ]
  },
  {
   "cell_type": "code",
   "execution_count": null,
   "metadata": {},
   "outputs": [],
   "source": [
    "cube = lambda x: x ** 3\n",
    "\n",
    "\n",
    "def fibonacci(n):\n",
    "    a, b, c = 0, 1, 1\n",
    "    for _ in range(n):\n",
    "        yield a\n",
    "        a, b = b, a + b\n",
    "\n",
    "\n",
    "if __name__ == '__main__':\n",
    "    n = int(input())\n",
    "    print(list(map(cube, fibonacci(n))))"
   ]
  },
  {
   "cell_type": "markdown",
   "metadata": {},
   "source": [
    "REGEX AND PARSING /17\n",
    "\n",
    "Detect Floating Point Number"
   ]
  },
  {
   "cell_type": "code",
   "execution_count": null,
   "metadata": {},
   "outputs": [],
   "source": [
    "#import re\n",
    "\n",
    "#n=input()\n",
    "#if n.isnumeric()==False:\n",
    " #   print(False)\n",
    "#else:\n",
    "#    if n[0]=='+':\n",
    " #       print(bool(re.match(r\"+\",n)))\n",
    "  #  if n[0]=='-':\n",
    "   #     print(bool(re.match(r\"-\",n)))\n",
    "    \n",
    "    \n",
    "#print (bool(re.match(r\"ly\",\"similarly\")))\n",
    "#print (bool(re.match(r\"ly\",\"ly should be in the beginning\")))\n",
    "import re\n",
    "for i in range(int(input())):\n",
    "    print(bool(re.search(r\"^[+-]?\\d*\\.\\d+$\",input().strip())))\n",
    "\n"
   ]
  },
  {
   "cell_type": "markdown",
   "metadata": {},
   "source": [
    "Re.split()\n"
   ]
  },
  {
   "cell_type": "code",
   "execution_count": null,
   "metadata": {},
   "outputs": [],
   "source": [
    "import re\n",
    "regex_pattern = r\"[.,]\"    # Do not delete 'r'.\n",
    "print(\"\\n\".join(re.split(regex_pattern, input())))"
   ]
  },
  {
   "cell_type": "markdown",
   "metadata": {},
   "source": [
    "Group(), Groups() & Groupdict()\n"
   ]
  },
  {
   "cell_type": "code",
   "execution_count": 3,
   "metadata": {},
   "outputs": [
    {
     "name": "stdout",
     "output_type": "stream",
     "text": [
      "45554\n",
      "5\n"
     ]
    }
   ],
   "source": [
    "#solution found online\n",
    "import re\n",
    "#m = re.match(r'(\\w+)@(\\w+)\\.(\\w+)','username@hackerrank.com')\n",
    "#m.group(0)       # The entire match \n",
    "#'username@hackerrank.com'\n",
    "#m.group(1)       # The first parenthesized subgroup.\n",
    "#'username'\n",
    "#m.group(2)       # The second parenthesized subgroup.\n",
    "#'hackerrank'\n",
    "#m.group(3)       # The third parenthesized subgroup.\n",
    "#'com'\n",
    "#m.group(1,2,3)   # Multiple arguments give us a tuple.\n",
    "#('username', 'hackerrank', 'com')\n",
    "\n",
    "#m = re.match(r'(?P<user>\\w+)@(?P<website>\\w+)\\.(?P<extension>\\w+)','myname@hackerrank.com')\n",
    "#m.groupdict()\n",
    "#{'website': 'hackerrank', 'user': 'myname', 'extension': 'com'}\n",
    "\n",
    "m = re.search(r'([a-zA-Z0-9])\\1+', input().strip())\n",
    "print(m.group(1) if m else -1)"
   ]
  },
  {
   "cell_type": "markdown",
   "metadata": {},
   "source": [
    "Re.findall() & Re.finditer()"
   ]
  },
  {
   "cell_type": "code",
   "execution_count": null,
   "metadata": {},
   "outputs": [],
   "source": [
    "#found online \n",
    "import re\n",
    "vowels = 'aeiou'\n",
    "consonants = 'qwrtypsdfghjklzxcvbnm'\n",
    "match = re.findall(r'(?<=[' + consonants + '])([' + vowels + ']{2,})(?=[' + consonants + '])', input(), flags=re.I)\n",
    "print('\\n'.join(match or ['-1']))"
   ]
  },
  {
   "cell_type": "markdown",
   "metadata": {},
   "source": [
    "Re.start() & Re.end()\n",
    "\n"
   ]
  },
  {
   "cell_type": "code",
   "execution_count": 4,
   "metadata": {},
   "outputs": [
    {
     "name": "stdout",
     "output_type": "stream",
     "text": [
      "ciaos\n",
      "fer\n",
      "(-1, -1)\n"
     ]
    }
   ],
   "source": [
    "import re\n",
    "string = input()\n",
    "substring = input()\n",
    "pattern = re.compile(substring)\n",
    "match = pattern.search(string)\n",
    "if not match: print('(-1, -1)')\n",
    "while match:\n",
    "    print('({0}, {1})'.format(match.start(), match.end() - 1))\n",
    "    match = pattern.search(string, match.start() + 1)"
   ]
  },
  {
   "cell_type": "markdown",
   "metadata": {},
   "source": [
    "Regex Substitution"
   ]
  },
  {
   "cell_type": "code",
   "execution_count": null,
   "metadata": {},
   "outputs": [
    {
     "name": "stdout",
     "output_type": "stream",
     "text": [
      "453\n",
      "234\n",
      "234\n",
      "\n",
      "\n",
      "243\n",
      "243\n",
      "43\n",
      "43\n",
      "2\n",
      "2\n",
      "\n",
      "\n",
      "\n",
      "\n",
      "stop\n",
      "stop\n",
      "brek34\n",
      "brek34\n",
      "cfg56\n",
      "cfg56\n",
      "53\n",
      "53\n",
      "\n",
      "\n",
      "cgf34\n",
      "cgf34\n",
      "32\n",
      "32\n",
      "12\n",
      "12\n",
      "43255\n",
      "43255\n",
      "\n",
      "\n",
      "\n",
      "\n",
      "0\n",
      "0\n",
      "break\n",
      "break\n",
      "adspjoj41ì049ì1ù\n",
      "adspjoj41ì049ì1ù\n",
      "\n",
      "\n"
     ]
    }
   ],
   "source": [
    "import re\n",
    "for _ in range(int(input())):\n",
    "    print(re.sub(r'(?<= )(&&|\\|\\|)(?= )', lambda x: 'and' if x.group() == '&&' else 'or', input()))"
   ]
  },
  {
   "cell_type": "markdown",
   "metadata": {},
   "source": [
    "Validating Roman Numeral"
   ]
  },
  {
   "cell_type": "code",
   "execution_count": 1,
   "metadata": {},
   "outputs": [
    {
     "name": "stdout",
     "output_type": "stream",
     "text": [
      "CV\n",
      "True\n"
     ]
    }
   ],
   "source": [
    "import re\n",
    "pattern = '^(?=[MDCLXVI])M{0,3}(CM|CD|D?C{0,3})(XC|XL|L?X{0,3})(IX|IV|V?I{0,3})$'\n",
    "roman = str(input())\n",
    "if re.search(pattern, roman):\n",
    "    print ('True')\n",
    "else:\n",
    "    print ('False')"
   ]
  },
  {
   "cell_type": "markdown",
   "metadata": {},
   "source": [
    "Validating phone numbers\n",
    "\n"
   ]
  },
  {
   "cell_type": "code",
   "execution_count": null,
   "metadata": {},
   "outputs": [],
   "source": [
    "import re\n",
    "\n",
    "N = int(input())\n",
    "r = re.compile(\"^[789]\\d{9}$\")\n",
    "\n",
    "for _ in range(N):\n",
    "    t = input()\n",
    "    print(\"YES\" if r.search(t) else \"NO\")"
   ]
  },
  {
   "cell_type": "markdown",
   "metadata": {},
   "source": [
    "Validating and Parsing Email Addresses\n",
    "\n"
   ]
  },
  {
   "cell_type": "code",
   "execution_count": null,
   "metadata": {},
   "outputs": [],
   "source": [
    "import re\n",
    "\n",
    "n=int(input())\n",
    "for i in range(n):\n",
    "    line= input()\n",
    "    name,email=line.split(' ')\n",
    "    pattern=\"<[a-z][a-zA-Z0-9\\-\\.\\_]+@[a-zA-Z]+\\.[a-zA-Z]{1,3}>\"\n",
    "    if bool(re.match(pattern,email)):\n",
    "        print (name,email)"
   ]
  },
  {
   "cell_type": "markdown",
   "metadata": {},
   "source": [
    "Hex Color Code\n",
    "\n"
   ]
  },
  {
   "cell_type": "code",
   "execution_count": null,
   "metadata": {},
   "outputs": [],
   "source": [
    "import re\n",
    "\n",
    "for _ in range(int(input())):\n",
    "    matches = re.findall(r':?.(#[0-9a-fA-F]{6}|#[0-9a-fA-F]{3})', input())\n",
    "    if matches:\n",
    "        print(*matches, sep='\\n')"
   ]
  },
  {
   "cell_type": "markdown",
   "metadata": {},
   "source": [
    "HTML Parser - Part 1\n",
    "\n"
   ]
  },
  {
   "cell_type": "code",
   "execution_count": null,
   "metadata": {},
   "outputs": [],
   "source": [
    "import re\n",
    "\n",
    "tag_filter = re.compile(r\"(?<=<)(?:.*?)(?=>)\")\n",
    "attrib_filter = re.compile(r\"([\\w-]+)(?:=[\\\"'](.*?)[\\\"'])?\")\n",
    "\n",
    "s = \"\"\n",
    "\n",
    "# get input stream\n",
    "for _ in range(int(input())):\n",
    "    s += input()\n",
    "\n",
    "# discard comments\n",
    "s = re.sub(r\"(?:<!--(.|\\s)*?(?:-->))\",\"\",s)\n",
    "\n",
    "# extract individual tag information\n",
    "tags = tag_filter.findall(s)\n",
    "\n",
    "# iterate over the extracted tag information\n",
    "for tag in tags:\n",
    "    # tag handling logic\n",
    "    if tag[0] == \"/\":\n",
    "        print(\"End   :\",tag[1:])\n",
    "    else:\n",
    "        attribs = attrib_filter.findall(tag)\n",
    "        if tag[-1] == \"/\":\n",
    "            print(\"Empty :\",attribs[0][0])\n",
    "        else:\n",
    "            print(\"Start :\",attribs[0][0])\n",
    "            \n",
    "        for i in range(1,len(attribs)):\n",
    "            a = attribs[i][0]\n",
    "            if attribs[i][1] == '': \n",
    "                v = 'None' \n",
    "            else: \n",
    "                v = attribs[i][1]\n",
    "            print(\"-> {} > {}\".format(a,v))"
   ]
  },
  {
   "cell_type": "markdown",
   "metadata": {},
   "source": [
    "HTML Parser - Part 2\n",
    "\n"
   ]
  },
  {
   "cell_type": "code",
   "execution_count": 2,
   "metadata": {},
   "outputs": [],
   "source": [
    "###"
   ]
  },
  {
   "cell_type": "markdown",
   "metadata": {},
   "source": [
    "Detect HTML Tags, Attributes and Attribute Values\n",
    "\n"
   ]
  },
  {
   "cell_type": "code",
   "execution_count": null,
   "metadata": {},
   "outputs": [],
   "source": [
    "import re\n",
    "\n",
    "text = ''\n",
    "for _ in range(int(input())):\n",
    "    text = re.sub(r'<!.+-->',r' ',(text+input()))\n",
    "\n",
    "for er in re.findall(r'<([^/][^>]*)>', text):\n",
    "    if ' ' in er:       \n",
    "        for ere in re.findall(r'([a-z]+)? *([a-z-]+)=\"([^\"]+)', er):\n",
    "            if ere[0]:\n",
    "                print(ere[0])          \n",
    "            print('-> '+ere[1]+' > '+ere[2])\n",
    "    else:\n",
    "        print(er)"
   ]
  },
  {
   "cell_type": "markdown",
   "metadata": {},
   "source": [
    "Validating UID\n",
    "\n"
   ]
  },
  {
   "cell_type": "code",
   "execution_count": null,
   "metadata": {},
   "outputs": [],
   "source": [
    "# Enter your code here. Read input from STDIN. Print output to STDOUT\n",
    "\n",
    "import re\n",
    "\n",
    "for _ in range(int(input())):\n",
    "    u = ''.join(sorted(input()))\n",
    "    try:\n",
    "        assert re.search(r'[A-Z]{2}', u)\n",
    "        assert re.search(r'\\d\\d\\d', u)\n",
    "        assert not re.search(r'[^a-zA-Z0-9]', u)\n",
    "        assert not re.search(r'(.)\\1', u)\n",
    "        assert len(u) == 10\n",
    "    except:\n",
    "        print('Invalid')\n",
    "    else:\n",
    "        print('Valid')"
   ]
  },
  {
   "cell_type": "markdown",
   "metadata": {},
   "source": [
    "Validating Credit Card Numbers"
   ]
  },
  {
   "cell_type": "code",
   "execution_count": null,
   "metadata": {},
   "outputs": [],
   "source": [
    "import re\n",
    "n=int(input())\n",
    "for i in range(n):\n",
    "    string = input()\n",
    "    start = re.search(r\"^[456]\",string)\n",
    "    digit_and_sep = re.match(r\"(-?\\d{4}){4}$\",string)\n",
    "    consecutive = re.search(r\"(.)(-?\\1){3,}\",string)\n",
    "    if ( start and digit_and_sep  and not consecutive):\n",
    "        print(\"Valid\")\n",
    "    else:\n",
    "        print(\"Invalid\") "
   ]
  },
  {
   "cell_type": "markdown",
   "metadata": {},
   "source": [
    "Validating Postal Codes\n",
    "\n"
   ]
  },
  {
   "cell_type": "code",
   "execution_count": null,
   "metadata": {},
   "outputs": [],
   "source": [
    "regex_integer_in_range = r'^[1-9][\\d]{5}$'  # Do not delete 'r'.\n",
    "regex_alternating_repetitive_digit_pair = r'(\\d)(?=\\d\\1)'  # Do not delete 'r'.\n",
    "\n",
    "\n",
    "import re\n",
    "P = input()\n",
    "\n",
    "print (bool(re.match(regex_integer_in_range, P)) \n",
    "and len(re.findall(regex_alternating_repetitive_digit_pair, P)) < 2)"
   ]
  },
  {
   "cell_type": "markdown",
   "metadata": {},
   "source": [
    "Matrix Script\n",
    "\n"
   ]
  },
  {
   "cell_type": "code",
   "execution_count": 5,
   "metadata": {},
   "outputs": [
    {
     "name": "stdout",
     "output_type": "stream",
     "text": [
      "7 3 Tsi h%x i # sM  $a  #t% ir!\n"
     ]
    },
    {
     "ename": "ValueError",
     "evalue": "invalid literal for int() with base 10: 'Tsi'",
     "output_type": "error",
     "traceback": [
      "\u001b[1;31m---------------------------------------------------------------------------\u001b[0m",
      "\u001b[1;31mValueError\u001b[0m                                Traceback (most recent call last)",
      "\u001b[1;32m<ipython-input-5-4ca400867586>\u001b[0m in \u001b[0;36m<module>\u001b[1;34m\u001b[0m\n\u001b[0;32m      1\u001b[0m \u001b[1;32mimport\u001b[0m \u001b[0mre\u001b[0m\u001b[1;33m\u001b[0m\u001b[1;33m\u001b[0m\u001b[0m\n\u001b[0;32m      2\u001b[0m \u001b[1;33m\u001b[0m\u001b[0m\n\u001b[1;32m----> 3\u001b[1;33m \u001b[0mn\u001b[0m\u001b[1;33m,\u001b[0m \u001b[0mm\u001b[0m \u001b[1;33m=\u001b[0m \u001b[0mmap\u001b[0m\u001b[1;33m(\u001b[0m\u001b[0mint\u001b[0m\u001b[1;33m,\u001b[0m \u001b[0minput\u001b[0m\u001b[1;33m(\u001b[0m\u001b[1;33m)\u001b[0m\u001b[1;33m.\u001b[0m\u001b[0msplit\u001b[0m\u001b[1;33m(\u001b[0m\u001b[1;33m)\u001b[0m\u001b[1;33m)\u001b[0m\u001b[1;33m\u001b[0m\u001b[1;33m\u001b[0m\u001b[0m\n\u001b[0m\u001b[0;32m      4\u001b[0m \u001b[0ma\u001b[0m\u001b[1;33m,\u001b[0m \u001b[0mb\u001b[0m \u001b[1;33m=\u001b[0m \u001b[1;33m[\u001b[0m\u001b[1;33m]\u001b[0m\u001b[1;33m,\u001b[0m \u001b[1;34m''\u001b[0m\u001b[1;33m\u001b[0m\u001b[1;33m\u001b[0m\u001b[0m\n\u001b[0;32m      5\u001b[0m \u001b[1;32mfor\u001b[0m \u001b[0m_\u001b[0m \u001b[1;32min\u001b[0m \u001b[0mrange\u001b[0m\u001b[1;33m(\u001b[0m\u001b[0mn\u001b[0m\u001b[1;33m)\u001b[0m\u001b[1;33m:\u001b[0m\u001b[1;33m\u001b[0m\u001b[1;33m\u001b[0m\u001b[0m\n",
      "\u001b[1;31mValueError\u001b[0m: invalid literal for int() with base 10: 'Tsi'"
     ]
    }
   ],
   "source": [
    "import re\n",
    "\n",
    "n, m = map(int, input().split())\n",
    "a, b = [], ''\n",
    "for _ in range(n):\n",
    "    a.append(input())\n",
    "\n",
    "for z in zip(*a):\n",
    "    b += ''.join(z)\n",
    "\n",
    "print(re.sub(r'(?<=\\w)([^\\w]+)(?=\\w)', ' ', b))\n",
    "for _ in range(n):\n",
    "    matrix_item = input()\n",
    "    matrix.append(matrix_item)"
   ]
  },
  {
   "cell_type": "markdown",
   "metadata": {},
   "source": [
    "XML\n",
    "\n",
    "XML 1 - Find the Score\n",
    "\n"
   ]
  },
  {
   "cell_type": "code",
   "execution_count": null,
   "metadata": {},
   "outputs": [],
   "source": [
    "import sys\n",
    "import xml.etree.ElementTree as etree\n",
    "\n",
    "def get_attr_number(node):\n",
    "    return len(node.attrib) + sum(get_attr_number(child) for child in node);\n",
    "\n",
    "if __name__ == '__main__':\n",
    "    sys.stdin.readline()\n",
    "    xml = sys.stdin.read()\n",
    "    tree = etree.ElementTree(etree.fromstring(xml))\n",
    "    root = tree.getroot()\n",
    "    print(get_attr_number(root))"
   ]
  },
  {
   "cell_type": "markdown",
   "metadata": {},
   "source": [
    "XML2 - Find the Maximum Depth"
   ]
  },
  {
   "cell_type": "code",
   "execution_count": null,
   "metadata": {},
   "outputs": [],
   "source": [
    "import xml.etree.ElementTree as etree\n",
    "\n",
    "maxdepth = 0\n",
    "\n",
    "\n",
    "def depth(elem, level):\n",
    "    global maxdepth\n",
    "    if (level == maxdepth):\n",
    "        maxdepth += 1\n",
    "\n",
    "    for child in elem:\n",
    "        depth(child, level + 1)\n",
    "if __name__ == '__main__':\n",
    "    n = int(input())\n",
    "    xml = \"\"\n",
    "    for i in range(n):\n",
    "        xml =  xml + input() + \"\\n\"\n",
    "    tree = etree.ElementTree(etree.fromstring(xml))\n",
    "    depth(tree.getroot(), -1)\n",
    "    print(maxdepth)"
   ]
  },
  {
   "cell_type": "markdown",
   "metadata": {},
   "source": [
    "CLOSURES AND DECORATORS\n",
    "\n",
    "Standardize Mobile Number Using Decorators\n",
    "\n"
   ]
  },
  {
   "cell_type": "code",
   "execution_count": null,
   "metadata": {},
   "outputs": [],
   "source": [
    "def wrapper(f):\n",
    "    def fun(l):\n",
    "        f(['+91 ' + c[-10:-5] + ' ' + c[-5:] for c in l])\n",
    "\n",
    "    return fun\n",
    "@wrapper\n",
    "def sort_phone(l):\n",
    "    print(*sorted(l), sep='\\n')\n",
    "\n",
    "if __name__ == '__main__':\n",
    "    l = [input() for _ in range(int(input()))]\n",
    "    sort_phone(l) \n"
   ]
  },
  {
   "cell_type": "markdown",
   "metadata": {},
   "source": [
    "Decorators 2 - Name Directory\n",
    "\n"
   ]
  },
  {
   "cell_type": "code",
   "execution_count": null,
   "metadata": {},
   "outputs": [],
   "source": [
    "import operator\n",
    "\n",
    "def person_lister(f):\n",
    "    def inner(people):\n",
    "        return map(f, sorted(people, key=lambda x: x[2]))\n",
    "    return inner\n",
    "\n",
    "@person_lister\n",
    "def name_format(person):\n",
    "    return (\"Mr. \" if person[3] == \"M\" else \"Ms. \") + person[0] + \" \" + person[1]\n",
    "\n",
    "if __name__ == '__main__':\n",
    "    people = [input().split() for i in range(int(input()))]\n",
    "    print(*name_format(people), sep='\\n')"
   ]
  },
  {
   "cell_type": "markdown",
   "metadata": {},
   "source": [
    "NUMPY\n",
    "\n",
    "Arrays"
   ]
  },
  {
   "cell_type": "code",
   "execution_count": 8,
   "metadata": {},
   "outputs": [
    {
     "name": "stdout",
     "output_type": "stream",
     "text": [
      "1 14 6 \n",
      "[ 6. 14.  1.]\n"
     ]
    }
   ],
   "source": [
    "import numpy\n",
    "def arrays(arr):\n",
    "    return (numpy.array(arr[::-1], float))\n",
    "#micka simon nicolà\n",
    "arr = input().strip().split(' ')\n",
    "result = arrays(arr)\n",
    "print(result)"
   ]
  },
  {
   "cell_type": "markdown",
   "metadata": {},
   "source": [
    "Shape and Reshape"
   ]
  },
  {
   "cell_type": "code",
   "execution_count": 12,
   "metadata": {},
   "outputs": [
    {
     "name": "stdout",
     "output_type": "stream",
     "text": [
      "1 2 3 4 5 6 7 8 9\n",
      "[[1 2 3]\n",
      " [4 5 6]\n",
      " [7 8 9]]\n"
     ]
    }
   ],
   "source": [
    "import numpy as np\n",
    "\n",
    "print(np.array(input().split(), int).reshape(3, 3))"
   ]
  },
  {
   "cell_type": "markdown",
   "metadata": {},
   "source": [
    "Transpose and Flatten\n",
    "\n"
   ]
  },
  {
   "cell_type": "code",
   "execution_count": null,
   "metadata": {},
   "outputs": [],
   "source": [
    "import numpy as np\n",
    "\n",
    "n, m = map(int, input().split())\n",
    "array = np.array([input().strip().split() for _ in range(n)], int)\n",
    "print(array.transpose())\n",
    "print(array.flatten())"
   ]
  },
  {
   "cell_type": "markdown",
   "metadata": {},
   "source": [
    "Concatenate"
   ]
  },
  {
   "cell_type": "code",
   "execution_count": null,
   "metadata": {},
   "outputs": [],
   "source": [
    "import numpy as np\n",
    "\n",
    "a, b, c = map(int, input().split())\n",
    "A = np.array([input().split() for _ in range(a)], int)\n",
    "B = np.array([input().split() for _ in range(b)], int)\n",
    "print(np.concatenate((A, B), axis=0))"
   ]
  },
  {
   "cell_type": "markdown",
   "metadata": {},
   "source": [
    "Zeros and Ones\n",
    "\n"
   ]
  },
  {
   "cell_type": "code",
   "execution_count": 18,
   "metadata": {},
   "outputs": [
    {
     "name": "stdout",
     "output_type": "stream",
     "text": [
      "3 3 3 \n",
      "[[0 0 0]\n",
      " [0 0 0]\n",
      " [0 0 0]]\n",
      "[[0 0 0]\n",
      " [0 0 0]\n",
      " [0 0 0]]\n",
      "[[0 0 0]\n",
      " [0 0 0]\n",
      " [0 0 0]]\n",
      "[[1 1 1]\n",
      " [1 1 1]\n",
      " [1 1 1]]\n",
      "[[1 1 1]\n",
      " [1 1 1]\n",
      " [1 1 1]]\n",
      "[[1 1 1]\n",
      " [1 1 1]\n",
      " [1 1 1]]\n"
     ]
    }
   ],
   "source": [
    "import numpy\n",
    "\n",
    "row,colums,times=map(int,input().split())\n",
    "for i in range(times):\n",
    "    print(numpy.zeros((row,colums), dtype = numpy.int))\n",
    "    \n",
    "for j in range(times):  \n",
    "    print(numpy.ones((row,colums), dtype = numpy.int))"
   ]
  },
  {
   "cell_type": "markdown",
   "metadata": {},
   "source": [
    "Eye and Identity"
   ]
  },
  {
   "cell_type": "code",
   "execution_count": 25,
   "metadata": {},
   "outputs": [
    {
     "name": "stdout",
     "output_type": "stream",
     "text": [
      "3 4\n",
      "[[ 1.  0.  0.  0.]\n",
      " [ 0.  1.  0.  0.]\n",
      " [ 0.  0.  1.  0.]]\n"
     ]
    }
   ],
   "source": [
    "import numpy\n",
    "\n",
    "numpy.set_printoptions(sign=' ')\n",
    "print(numpy.eye(*map(int, input().split())))"
   ]
  },
  {
   "cell_type": "markdown",
   "metadata": {},
   "source": [
    "Array Mathematics\n",
    "\n"
   ]
  },
  {
   "cell_type": "code",
   "execution_count": 35,
   "metadata": {},
   "outputs": [],
   "source": [
    "import numpy as np\n",
    "\n",
    "n, m = map(int, input().split())\n",
    "a, b = (np.array([input().split() for _ in range(n)], dtype=int) for _ in range(2))\n",
    "print(a + b, a - b, a * b, a // b, a % b, a ** b, sep='\\n')"
   ]
  },
  {
   "cell_type": "markdown",
   "metadata": {},
   "source": [
    "Floor, Ceil and Rint\n",
    "\n"
   ]
  },
  {
   "cell_type": "code",
   "execution_count": 36,
   "metadata": {},
   "outputs": [
    {
     "name": "stdout",
     "output_type": "stream",
     "text": [
      "4\n",
      "[ 4.]\n",
      "[ 4.]\n",
      "[ 4.]\n"
     ]
    }
   ],
   "source": [
    "import numpy\n",
    "\n",
    "numpy.set_printoptions(sign=' ')\n",
    "\n",
    "a = numpy.array(input().split(),float)\n",
    "\n",
    "print(numpy.floor(a))\n",
    "print(numpy.ceil(a))\n",
    "print(numpy.rint(a))"
   ]
  },
  {
   "cell_type": "markdown",
   "metadata": {},
   "source": [
    "Sum and Prod\n",
    "\n"
   ]
  },
  {
   "cell_type": "code",
   "execution_count": null,
   "metadata": {},
   "outputs": [],
   "source": [
    "import numpy as np\n",
    "x=list(map(int,input().split()))\n",
    "l=[]\n",
    "for a in range(x[0]):\n",
    "    l.append(list(map(int,input().split())))\n",
    "arr=np.array(l)\n",
    "arr1=np.sum(l,axis=0)\n",
    "print(np.prod(arr1))"
   ]
  },
  {
   "cell_type": "markdown",
   "metadata": {},
   "source": [
    "Min and Max\n",
    "\n"
   ]
  },
  {
   "cell_type": "code",
   "execution_count": null,
   "metadata": {},
   "outputs": [],
   "source": [
    "import numpy\n",
    "arr=[]\n",
    "n,m=map(int,input().split())\n",
    "for row in range(n):\n",
    "    my_arr=list(map(int,input().split()))\n",
    "    arr.append(my_arr)\n",
    "my_array=numpy.array(arr)\n",
    "result=numpy.min(my_array, axis = 1)\n",
    "print(max(result))"
   ]
  },
  {
   "cell_type": "markdown",
   "metadata": {},
   "source": [
    "Mean, Var, and Std\n",
    "\n"
   ]
  },
  {
   "cell_type": "code",
   "execution_count": null,
   "metadata": {},
   "outputs": [],
   "source": [
    "import numpy as np \n",
    "\n",
    "n,m = map(int, input().split())\n",
    "b = []\n",
    "for i in range(n):\n",
    "    a = list(map(int, input().split()))\n",
    "    b.append(a)\n",
    "\n",
    "b = np.array(b)\n",
    "\n",
    "np.set_printoptions(legacy='1.13')\n",
    "print(np.mean(b, axis = 1))\n",
    "print(np.var(b, axis = 0))\n",
    "print(np.std(b))"
   ]
  },
  {
   "cell_type": "markdown",
   "metadata": {},
   "source": [
    "Dot and Cross\n",
    "\n"
   ]
  },
  {
   "cell_type": "code",
   "execution_count": null,
   "metadata": {},
   "outputs": [],
   "source": [
    "import numpy\n",
    "n = int(input())\n",
    "\n",
    "A = list()\n",
    "for x in range(n):\n",
    "    A.append(list(map(int,input().split())))\n",
    "\n",
    "B = list()\n",
    "for x in range(n):\n",
    "    B.append(list(map(int,input().split())))\n",
    "\n",
    "print (numpy.dot(A,B))"
   ]
  },
  {
   "cell_type": "markdown",
   "metadata": {},
   "source": [
    "Inner and Outer\n",
    "\n"
   ]
  },
  {
   "cell_type": "code",
   "execution_count": null,
   "metadata": {},
   "outputs": [],
   "source": [
    "import numpy as np\n",
    "\n",
    "A = np.array(input().split(), int)\n",
    "B = np.array(input().split(), int)\n",
    "print(np.inner(A, B), np.outer(A, B), sep='\\n')"
   ]
  },
  {
   "cell_type": "markdown",
   "metadata": {},
   "source": [
    "Polynomials\n",
    "\n"
   ]
  },
  {
   "cell_type": "code",
   "execution_count": null,
   "metadata": {},
   "outputs": [],
   "source": [
    "import numpy \n",
    "n = list(map(float,input().split()))\n",
    "m = input()\n",
    "print(numpy.polyval(n,int(m)))"
   ]
  },
  {
   "cell_type": "markdown",
   "metadata": {},
   "source": [
    "Linear Algebra\n",
    "\n"
   ]
  },
  {
   "cell_type": "code",
   "execution_count": null,
   "metadata": {},
   "outputs": [],
   "source": [
    "import numpy\n",
    "N=int(input())\n",
    "a=[]\n",
    "for i in range(1,N+1):\n",
    "    a.append(list(map(float,input().split())))\n",
    "print (numpy.linalg.det(a))"
   ]
  },
  {
   "cell_type": "markdown",
   "metadata": {},
   "source": [
    "PROBLEM 2 \n",
    "\n",
    "Birthday Cake Candles"
   ]
  },
  {
   "cell_type": "code",
   "execution_count": null,
   "metadata": {},
   "outputs": [],
   "source": [
    "from collections import Counter\n",
    "\n",
    "def birthdayCakeCandles(n, ar):\n",
    "    d = Counter(ar)\n",
    "    largest_key = max(Counter.keys(d))\n",
    "    return d.get(largest_key)\n",
    "    # Complete this function\n",
    "\n",
    "n = int(input().strip())\n",
    "ar = list(map(int, input().strip().split(' ')))\n",
    "result = birthdayCakeCandles(n, ar)\n",
    "print(result)"
   ]
  },
  {
   "cell_type": "markdown",
   "metadata": {},
   "source": [
    "Viral Advertising"
   ]
  },
  {
   "cell_type": "code",
   "execution_count": 39,
   "metadata": {},
   "outputs": [
    {
     "name": "stdout",
     "output_type": "stream",
     "text": [
      "4\n",
      "15\n"
     ]
    }
   ],
   "source": [
    "m = [2]\n",
    "for i in range(int(input())-1):\n",
    "    m.append(int(3*m[i]/2))\n",
    "print(sum(m))"
   ]
  },
  {
   "cell_type": "markdown",
   "metadata": {},
   "source": [
    "Kangaroo"
   ]
  },
  {
   "cell_type": "code",
   "execution_count": null,
   "metadata": {},
   "outputs": [],
   "source": [
    "x1, v1, x2, v2 = map(int, input().split())\n",
    "\n",
    "# Note: 0 <= x1 < x2 <= 10000\n",
    "# x1 + k.v1 = x2 + k.v2\n",
    "\n",
    "\n",
    "if (v2 < v1) and ((x2 - x1) % (v2 - v1)) == 0:\n",
    "    print(\"YES\")\n",
    "else:\n",
    "    print(\"NO\")"
   ]
  },
  {
   "cell_type": "markdown",
   "metadata": {},
   "source": [
    "Insertion Sort 1"
   ]
  },
  {
   "cell_type": "code",
   "execution_count": null,
   "metadata": {},
   "outputs": [],
   "source": [
    "def last_insertion_sort(sorted_array, value):\n",
    "    item = a[-1]\n",
    "    i = n - 1\n",
    "    while (item >= value) and (i > 0):\n",
    "        i -= 1\n",
    "        item = a[i]\n",
    "        if item < value:\n",
    "            a[i + 1] = value\n",
    "        else:\n",
    "            a[i + 1] = a[i]\n",
    "        print(*a, sep=\" \")\n",
    "    if item >= value:\n",
    "        a[0] = value\n",
    "        print(*a, sep=\" \")\n",
    "\n",
    "\n",
    "n = int(input())\n",
    "a = [int(token) for token in input().split()]\n",
    "e = a.pop()\n",
    "a.append(a[-1])\n",
    "last_insertion_sort(a, e)"
   ]
  },
  {
   "cell_type": "markdown",
   "metadata": {},
   "source": [
    "Insertion Sort 2"
   ]
  },
  {
   "cell_type": "code",
   "execution_count": null,
   "metadata": {},
   "outputs": [],
   "source": [
    "def insertionSort(arr):\n",
    "    for i in range(1, len(arr)):\n",
    "        temp = arr[i]\n",
    "        j = i\n",
    "        while j > 0 and temp < arr[j-1]:\n",
    "            arr[j] = arr[j-1]\n",
    "            j -= 1\n",
    "        arr[j] = temp\n",
    "        print (' '.join(str(j) for j in arr))\n",
    "\n",
    "m = input()\n",
    "arr = [int(i) for i in (input().strip().split())]\n",
    "insertionSort(arr)"
   ]
  },
  {
   "cell_type": "markdown",
   "metadata": {},
   "source": []
  }
 ],
 "metadata": {
  "kernelspec": {
   "display_name": "Python 3",
   "language": "python",
   "name": "python3"
  },
  "language_info": {
   "codemirror_mode": {
    "name": "ipython",
    "version": 3
   },
   "file_extension": ".py",
   "mimetype": "text/x-python",
   "name": "python",
   "nbconvert_exporter": "python",
   "pygments_lexer": "ipython3",
   "version": "3.7.3"
  }
 },
 "nbformat": 4,
 "nbformat_minor": 2
}
